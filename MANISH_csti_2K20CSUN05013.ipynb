{
 "cells": [
  {
   "cell_type": "markdown",
   "metadata": {},
   "source": [
    "QUESTION1:\n",
    "Answer: Call super().__init__(arguments) within the child class to call the constructor of the immediate parent class with the argument name."
   ]
  },
  {
   "cell_type": "markdown",
   "metadata": {},
   "source": [
    "Question2: \n",
    "Answer: class child class name(parent class name):"
   ]
  },
  {
   "cell_type": "markdown",
   "metadata": {},
   "source": [
    "Questin3:\n",
    "Answer: yes return statemetn can be used to return more than 1 value\n",
    "sum=0\n",
    "average=0\n",
    "def cal(a,b,c):\n",
    "    global sum\n",
    "    global average\n",
    "    sum = a+b+c\n",
    "    average = sum/3\n",
    "    return sum,average\n",
    "A=int(input(\"enter a no\"))\n",
    "b=int(input(\"enter a no\"))\n",
    "c=int(input(\"enter a no\"))\n",
    "sum,average=cal(A,b,c)\n",
    "print(sum , average)"
   ]
  },
  {
   "cell_type": "markdown",
   "metadata": {},
   "source": [
    "Question 4:\n",
    "answer: dict1 = {1: 'apple', 2: 'ball' ,3:{'hello':'banana',5:'orange'}}\n",
    "print(dict1[3]['hello'])"
   ]
  },
  {
   "cell_type": "code",
   "execution_count": 16,
   "metadata": {},
   "outputs": [
    {
     "name": "stdout",
     "output_type": "stream",
     "text": [
      "enter first value5\n",
      "enter second value5\n",
      "enter third value2\n",
      "the answer using the formula is:   5.0\n"
     ]
    }
   ],
   "source": [
    "#part c\n",
    "#answer1:\n",
    "value1=int(input(\"enter first value\"))\n",
    "value2=int(input(\"enter second value\"))\n",
    "value3=int(input(\"enter third value\"))\n",
    "Q=((2*value1*value2)/value3)**0.5\n",
    "print(\"the answer using the formula is:  \",Q)\n"
   ]
  },
  {
   "cell_type": "code",
   "execution_count": 15,
   "metadata": {},
   "outputs": [
    {
     "name": "stdout",
     "output_type": "stream",
     "text": [
      "enter a stringmanish\n",
      "m\n",
      "n\n",
      "s\n"
     ]
    }
   ],
   "source": [
    "#ANswer2:\n",
    "a=input(\"enter a string\")\n",
    "b=len(a)\n",
    "for i in range(0,b,1):\n",
    "    if (i%2==0):\n",
    "        print(a[i])"
   ]
  },
  {
   "cell_type": "code",
   "execution_count": 13,
   "metadata": {},
   "outputs": [
    {
     "name": "stdout",
     "output_type": "stream",
     "text": [
      "0\n",
      "1\n",
      "2\n",
      "2\n"
     ]
    }
   ],
   "source": [
    "#ANSwer 3:\n",
    "class Robot:\n",
    "    __counter = 0\n",
    "    \n",
    "    def __init__(self):\n",
    "        type(self).__counter += 1\n",
    "        \n",
    "    @staticmethod\n",
    "    def RobotInstances():\n",
    "        return Robot.__counter\n",
    "        \n",
    "\n",
    "if __name__ == \"__main__\":\n",
    "    print(Robot.RobotInstances())\n",
    "    x = Robot()\n",
    "    print(x.RobotInstances())\n",
    "    y = Robot()\n",
    "    print(x.RobotInstances())\n",
    "    print(Robot.RobotInstances())"
   ]
  },
  {
   "cell_type": "code",
   "execution_count": null,
   "metadata": {},
   "outputs": [],
   "source": []
  }
 ],
 "metadata": {
  "kernelspec": {
   "display_name": "Python 3",
   "language": "python",
   "name": "python3"
  },
  "language_info": {
   "codemirror_mode": {
    "name": "ipython",
    "version": 3
   },
   "file_extension": ".py",
   "mimetype": "text/x-python",
   "name": "python",
   "nbconvert_exporter": "python",
   "pygments_lexer": "ipython3",
   "version": "3.8.5"
  }
 },
 "nbformat": 4,
 "nbformat_minor": 4
}
